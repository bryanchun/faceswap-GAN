{
 "cells": [
  {
   "cell_type": "markdown",
   "metadata": {},
   "source": [
    "# Install face-alignment package\n",
    "Environment: Google colab"
   ]
  },
  {
   "cell_type": "code",
   "execution_count": 1,
   "metadata": {
    "colab": {
     "autoexec": {
      "startup": false,
      "wait_interval": 0
     },
     "base_uri": "https://localhost:8080/",
     "height": 139
    },
    "colab_type": "code",
    "executionInfo": {
     "elapsed": 46673,
     "status": "ok",
     "timestamp": 1529151506883,
     "user": {
      "displayName": "Lu SA",
      "photoUrl": "https://lh3.googleusercontent.com/a/default-user=s128",
      "userId": "109275333798683015269"
     },
     "user_tz": -480
    },
    "id": "NK7_yFjNV-wY",
    "outputId": "091fda26-6e40-4c9d-fd39-2d48cdd7d14f"
   },
   "outputs": [
    {
     "name": "stdout",
     "output_type": "stream",
     "text": [
      "Requirement already up-to-date: torch in /home/bryan/.local/lib/python3.5/site-packages (0.4.0)\r\n"
     ]
    }
   ],
   "source": [
    "# Update pyorch to 0.4\n",
    "# !pip install --upgrade torch"
   ]
  },
  {
   "cell_type": "code",
   "execution_count": 2,
   "metadata": {
    "colab": {
     "autoexec": {
      "startup": false,
      "wait_interval": 0
     },
     "base_uri": "https://localhost:8080/",
     "height": 204
    },
    "colab_type": "code",
    "executionInfo": {
     "elapsed": 6783,
     "status": "ok",
     "timestamp": 1529151513699,
     "user": {
      "displayName": "Lu SA",
      "photoUrl": "https://lh3.googleusercontent.com/a/default-user=s128",
      "userId": "109275333798683015269"
     },
     "user_tz": -480
    },
    "id": "n79ip5KbWH0s",
    "outputId": "34fd0b04-52d3-45a9-a4e8-feb48013d5b2",
    "scrolled": true
   },
   "outputs": [
    {
     "name": "stdout",
     "output_type": "stream",
     "text": [
      "Reinitialized existing Git repository in /home/bryan/faceswap-GAN/.git/\n",
      "fatal: remote origin already exists.\n",
      "^C\n",
      "M\tFaceSwap_GAN_v2.2_train_test.ipynb\n",
      "M\tnetworks/faceswap_gan_model.py\n",
      "M\tnetworks/losses.py\n",
      "M\tnetworks/nn_blocks.py\n",
      "M\tprep_binary_masks.ipynb\n",
      "Already on 'master'\n",
      "Your branch is behind 'origin/master' by 9 commits, and can be fast-forwarded.\n",
      "  (use \"git pull\" to update your local branch)\n"
     ]
    }
   ],
   "source": [
    "# !git init .\n",
    "# !git remote add origin https://github.com/1adrianb/face-alignment.git\n",
    "# !git fetch origin\n",
    "# !git checkout master"
   ]
  },
  {
   "cell_type": "code",
   "execution_count": 3,
   "metadata": {
    "colab": {
     "autoexec": {
      "startup": false,
      "wait_interval": 0
     }
    },
    "colab_type": "code",
    "id": "48vu2IoAXNcU"
   },
   "outputs": [],
   "source": [
    "# %%capture\n",
    "# !apt update\n",
    "# !apt install -y cmake"
   ]
  },
  {
   "cell_type": "markdown",
   "metadata": {},
   "source": [
    "**Install dlib (CUDA enabled or CPU version)**\n",
    "\n",
    "CUDA enabled dlib"
   ]
  },
  {
   "cell_type": "code",
   "execution_count": 4,
   "metadata": {},
   "outputs": [],
   "source": [
    "# %%capture\n",
    "# !git clone https://github.com/davisking/dlib.git dlib/\n",
    "# !cd dlib/\n",
    "# !python setup.py install –yes USE_AVX_INSTRUCTIONS –yes DLIB_USE_CUDA"
   ]
  },
  {
   "cell_type": "markdown",
   "metadata": {},
   "source": [
    "dlib w/o CUDA"
   ]
  },
  {
   "cell_type": "code",
   "execution_count": 5,
   "metadata": {},
   "outputs": [],
   "source": [
    "# CPU dlib\n",
    "#!pip install dlib"
   ]
  },
  {
   "cell_type": "code",
   "execution_count": 6,
   "metadata": {
    "colab": {
     "autoexec": {
      "startup": false,
      "wait_interval": 0
     },
     "base_uri": "https://localhost:8080/",
     "height": 71
    },
    "colab_type": "code",
    "executionInfo": {
     "elapsed": 1784,
     "status": "ok",
     "timestamp": 1529131895182,
     "user": {
      "displayName": "Lu SA",
      "photoUrl": "https://lh3.googleusercontent.com/a/default-user=s128",
      "userId": "109275333798683015269"
     },
     "user_tz": -480
    },
    "id": "c8b776O8WH5_",
    "outputId": "1adbfb1a-1399-4396-c05c-8685573ee25a"
   },
   "outputs": [
    {
     "name": "stdout",
     "output_type": "stream",
     "text": [
      "binary_masks\t\t\t\t  image_augmentation.py\r\n",
      "converter\t\t\t\t  instance_normalization.py\r\n",
      "detector\t\t\t\t  model_GAN_v2.py\r\n",
      "dlib\t\t\t\t\t  mtcnn_detect_face.py\r\n",
      "dlib_video_face_detection.ipynb\t\t  mtcnn_weights\r\n",
      "faceA\t\t\t\t\t  networks\r\n",
      "faceB\t\t\t\t\t  notes\r\n",
      "FaceSwap_GAN_github.ipynb\t\t  pixel_shuffler.py\r\n",
      "FaceSwap_GAN_v2.1_train.ipynb\t\t  prep_binary_masks.ipynb\r\n",
      "FaceSwap_GAN_v2.2_train_test.ipynb\t  __pycache__\r\n",
      "FaceSwap_GAN_v2.2_video_conversion.ipynb  README.md\r\n",
      "FaceSwap_GAN_v2_sz128_train.ipynb\t  temp\r\n",
      "FaceSwap_GAN_v2_test_img.ipynb\t\t  training_data.py\r\n",
      "FaceSwap_GAN_v2_test_video_MTCNN.ipynb\t  umeyama.py\r\n",
      "FaceSwap_GAN_v2_train.ipynb\t\t  utils.py\r\n",
      "FCN8s_keras.py\r\n"
     ]
    }
   ],
   "source": [
    "!ls"
   ]
  },
  {
   "cell_type": "code",
   "execution_count": 1,
   "metadata": {
    "colab": {
     "autoexec": {
      "startup": false,
      "wait_interval": 0
     },
     "base_uri": "https://localhost:8080/",
     "height": 35
    },
    "colab_type": "code",
    "executionInfo": {
     "elapsed": 7848,
     "status": "ok",
     "timestamp": 1529131778373,
     "user": {
      "displayName": "Lu SA",
      "photoUrl": "https://lh3.googleusercontent.com/a/default-user=s128",
      "userId": "109275333798683015269"
     },
     "user_tz": -480
    },
    "id": "HLqaUVyQWH3V",
    "outputId": "3c814038-afca-4934-bd40-c2e7b6a344e5"
   },
   "outputs": [
    {
     "data": {
      "text/plain": [
       "'0.4.0'"
      ]
     },
     "execution_count": 1,
     "metadata": {},
     "output_type": "execute_result"
    }
   ],
   "source": [
    "import torch\n",
    "torch.__version__"
   ]
  },
  {
   "cell_type": "code",
   "execution_count": null,
   "metadata": {
    "colab": {
     "autoexec": {
      "startup": false,
      "wait_interval": 0
     }
    },
    "colab_type": "code",
    "id": "QNdDVGxkblKX"
   },
   "outputs": [],
   "source": []
  },
  {
   "cell_type": "markdown",
   "metadata": {
    "colab_type": "text",
    "id": "RT_PlazfbldI"
   },
   "source": [
    "# Generate binary masks\n",
    "\n",
    "```bash\n",
    "    Inputs:\n",
    "        Images from ./faceA and ./faceB\n",
    "    Outputs:\n",
    "        Eyes binary masks, which are saved to ./binary_masks/faceA_eyes and ./binary_masks/faceB_eyes respectively\n",
    "```"
   ]
  },
  {
   "cell_type": "code",
   "execution_count": 2,
   "metadata": {
    "colab": {
     "autoexec": {
      "startup": false,
      "wait_interval": 0
     }
    },
    "colab_type": "code",
    "id": "zD5XgAEJbkjS"
   },
   "outputs": [],
   "source": [
    "import face_alignment"
   ]
  },
  {
   "cell_type": "code",
   "execution_count": 3,
   "metadata": {
    "colab": {
     "autoexec": {
      "startup": false,
      "wait_interval": 0
     }
    },
    "colab_type": "code",
    "id": "hmSj4zaXXz5W"
   },
   "outputs": [],
   "source": [
    "import cv2\n",
    "import numpy as np\n",
    "from glob import glob\n",
    "from pathlib import PurePath, Path\n",
    "from matplotlib import pyplot as plt\n",
    "%matplotlib inline"
   ]
  },
  {
   "cell_type": "code",
   "execution_count": 4,
   "metadata": {
    "colab": {
     "autoexec": {
      "startup": false,
      "wait_interval": 0
     }
    },
    "colab_type": "code",
    "id": "34x3mp7wb2bR"
   },
   "outputs": [],
   "source": [
    "dir_faceA = \"./faceA\"\n",
    "dir_faceB = \"./faceB\"\n",
    "dir_bm_faceA_eyes = \"./binary_masks/faceA_eyes\"\n",
    "dir_bm_faceB_eyes = \"./binary_masks/faceB_eyes\""
   ]
  },
  {
   "cell_type": "code",
   "execution_count": 5,
   "metadata": {
    "colab": {
     "autoexec": {
      "startup": false,
      "wait_interval": 0
     }
    },
    "colab_type": "code",
    "id": "17GYV20FXz78"
   },
   "outputs": [],
   "source": [
    "fns_faceA = glob(\"{dir_faceA}/*.*\".format(dir_faceA=dir_faceA))\n",
    "fns_faceB = glob(\"{dir_faceB}/*.*\".format(dir_faceB=dir_faceB))"
   ]
  },
  {
   "cell_type": "code",
   "execution_count": 6,
   "metadata": {
    "colab": {
     "autoexec": {
      "startup": false,
      "wait_interval": 0
     },
     "base_uri": "https://localhost:8080/",
     "height": 34
    },
    "colab_type": "code",
    "executionInfo": {
     "elapsed": 11767,
     "status": "ok",
     "timestamp": 1529152245581,
     "user": {
      "displayName": "Lu SA",
      "photoUrl": "https://lh3.googleusercontent.com/a/default-user=s128",
      "userId": "109275333798683015269"
     },
     "user_tz": -480
    },
    "id": "fwD2DVvQcEMw",
    "outputId": "698867a7-2b85-4703-cdd2-fa7531bc6b52"
   },
   "outputs": [],
   "source": [
    "fa = face_alignment.FaceAlignment(face_alignment.LandmarksType._2D, enable_cuda=True, flip_input=False)"
   ]
  },
  {
   "cell_type": "code",
   "execution_count": 7,
   "metadata": {
    "colab": {
     "autoexec": {
      "startup": false,
      "wait_interval": 0
     }
    },
    "colab_type": "code",
    "id": "cYCCJK1ehpNi"
   },
   "outputs": [],
   "source": [
    "# !mkdir -p binary_masks/faceA_eyes\n",
    "Path(\"binary_masks/faceA_eyes\").mkdir(parents=True, exist_ok=True)\n",
    "# !mkdir -p binary_masks/faceB_eyes\n",
    "Path(\"binary_masks/faceB_eyes\").mkdir(parents=True, exist_ok=True)"
   ]
  },
  {
   "cell_type": "code",
   "execution_count": 9,
   "metadata": {
    "colab": {
     "autoexec": {
      "startup": false,
      "wait_interval": 0
     },
     "base_uri": "https://localhost:8080/",
     "height": 2397
    },
    "colab_type": "code",
    "executionInfo": {
     "elapsed": 121564,
     "status": "ok",
     "timestamp": 1529152370522,
     "user": {
      "displayName": "Lu SA",
      "photoUrl": "https://lh3.googleusercontent.com/a/default-user=s128",
      "userId": "109275333798683015269"
     },
     "user_tz": -480
    },
    "id": "iMZHXBmzcEUY",
    "outputId": "2dc0737f-6990-40db-adb9-c5e2baf49ae9",
    "scrolled": true
   },
   "outputs": [
    {
     "name": "stdout",
     "output_type": "stream",
     "text": [
      "Warning: No faces were detected.\n",
      "No faces were detected in image './faceA/632205874.jpg''\n",
      "Warning: No faces were detected.\n",
      "No faces were detected in image './faceA/885289262.jpg''\n",
      "Warning: No faces were detected.\n",
      "No faces were detected in image './faceA/507926366.jpg''\n",
      "Warning: No faces were detected.\n",
      "No faces were detected in image './faceA/542732898.jpg''\n",
      "Warning: No faces were detected.\n",
      "No faces were detected in image './faceA/600031554.jpg''\n",
      "Warning: No faces were detected.\n",
      "No faces were detected in image './faceA/667789008.jpg''\n",
      "Warning: No faces were detected.\n",
      "No faces were detected in image './faceA/495466518.jpg''\n",
      "Warning: No faces were detected.\n",
      "No faces were detected in image './faceA/872383186.jpg''\n",
      "Warning: No faces were detected.\n",
      "No faces were detected in image './faceA/610601728.jpg''\n",
      "Warning: No faces were detected.\n",
      "No faces were detected in image './faceA/578547478.jpg''\n",
      "Warning: No faces were detected.\n",
      "No faces were detected in image './faceA/652916944.jpg''\n",
      "Warning: No faces were detected.\n",
      "No faces were detected in image './faceA/614181114.jpg''\n",
      "Warning: No faces were detected.\n",
      "No faces were detected in image './faceA/887058936.jpg''\n",
      "Warning: No faces were detected.\n",
      "No faces were detected in image './faceA/656981288.jpg''\n",
      "Warning: No faces were detected.\n",
      "No faces were detected in image './faceA/610600380.jpg''\n",
      "Warning: No faces were detected.\n",
      "No faces were detected in image './faceA/578546622.jpg''\n",
      "Warning: No faces were detected.\n",
      "No faces were detected in image './faceA/837554168.jpg''\n",
      "Warning: No faces were detected.\n",
      "No faces were detected in image './faceA/647267578.jpg''\n",
      "Warning: No faces were detected.\n",
      "No faces were detected in image './faceA/629991964.jpg''\n",
      "Warning: No faces were detected.\n",
      "No faces were detected in image './faceA/632195926.jpg''\n",
      "Warning: No faces were detected.\n",
      "No faces were detected in image './faceA/542750128.jpg''\n",
      "Warning: No faces were detected.\n",
      "No faces were detected in image './faceA/621865004.jpg''\n",
      "Warning: No faces were detected.\n",
      "No faces were detected in image './faceA/542979444.jpg''\n",
      "Warning: No faces were detected.\n",
      "No faces were detected in image './faceA/642085292.jpg''\n",
      "Warning: No faces were detected.\n",
      "No faces were detected in image './faceA/578136118.jpg''\n",
      "Warning: No faces were detected.\n",
      "No faces were detected in image './faceA/578546598.jpg''\n",
      "Warning: No faces were detected.\n",
      "No faces were detected in image './faceA/537743852.jpg''\n",
      "Warning: No faces were detected.\n",
      "No faces were detected in image './faceA/632200926.jpg''\n",
      "Warning: No faces were detected.\n",
      "No faces were detected in image './faceA/613699140.jpg''\n",
      "Warning: No faces were detected.\n",
      "No faces were detected in image './faceA/477326258.jpg''\n",
      "Warning: No faces were detected.\n",
      "No faces were detected in image './faceA/484129288.jpg''\n",
      "Warning: No faces were detected.\n",
      "No faces were detected in image './faceA/501103782.jpg''\n",
      "Warning: No faces were detected.\n",
      "No faces were detected in image './faceA/588934926.jpg''\n",
      "Warning: No faces were detected.\n",
      "No faces were detected in image './faceA/620931526.jpg''\n",
      "Warning: No faces were detected.\n",
      "No faces were detected in image './faceA/495466502.jpg''\n",
      "Warning: No faces were detected.\n",
      "No faces were detected in image './faceA/693438036.jpg''\n",
      "Warning: No faces were detected.\n",
      "No faces were detected in image './faceA/541107962.jpg''\n",
      "Warning: No faces were detected.\n",
      "No faces were detected in image './faceA/610600382.jpg''\n",
      "Warning: No faces were detected.\n",
      "No faces were detected in image './faceA/610598224.jpg''\n",
      "Warning: No faces were detected.\n",
      "No faces were detected in image './faceA/578547766.jpg''\n",
      "Warning: No faces were detected.\n",
      "No faces were detected in image './faceA/885520290.jpg''\n",
      "Warning: No faces were detected.\n",
      "No faces were detected in image './faceA/545158106.jpg''\n",
      "Warning: No faces were detected.\n",
      "No faces were detected in image './faceA/462077440.jpg''\n",
      "Warning: No faces were detected.\n",
      "No faces were detected in image './faceA/484129328.jpg''\n",
      "Warning: No faces were detected.\n",
      "No faces were detected in image './faceA/858383246.jpg''\n",
      "Warning: No faces were detected.\n",
      "No faces were detected in image './faceA/887058908.jpg''\n",
      "Warning: No faces were detected.\n",
      "No faces were detected in image './faceA/656251462.jpg''\n",
      "Warning: No faces were detected.\n",
      "No faces were detected in image './faceA/675487048.jpg''\n",
      "Warning: No faces were detected.\n",
      "No faces were detected in image './faceA/519457882.jpg''\n",
      "Warning: No faces were detected.\n",
      "No faces were detected in image './faceA/484141774.jpg''\n",
      "Warning: No faces were detected.\n",
      "No faces were detected in image './faceA/632781142.jpg''\n",
      "Warning: No faces were detected.\n",
      "No faces were detected in image './faceA/632916138.jpg''\n",
      "Warning: No faces were detected.\n",
      "No faces were detected in image './faceA/690979218.jpg''\n",
      "Warning: No faces were detected.\n",
      "No faces were detected in image './faceA/887054308.jpg''\n",
      "Warning: No faces were detected.\n",
      "No faces were detected in image './faceA/505737102.jpg''\n",
      "Warning: No faces were detected.\n",
      "No faces were detected in image './faceA/621864572.jpg''\n",
      "Warning: No faces were detected.\n",
      "No faces were detected in image './faceA/887053202.jpg''\n",
      "Warning: No faces were detected.\n",
      "No faces were detected in image './faceA/578547442.jpg''\n",
      "Warning: No faces were detected.\n",
      "No faces were detected in image './faceA/512498796.jpg''\n",
      "Warning: No faces were detected.\n",
      "No faces were detected in image './faceA/620931572.jpg''\n",
      "Warning: No faces were detected.\n",
      "No faces were detected in image './faceA/642088032.jpg''\n",
      "Warning: No faces were detected.\n",
      "No faces were detected in image './faceA/621865270.jpg''\n",
      "Warning: No faces were detected.\n",
      "No faces were detected in image './faceA/884422288.jpg''\n",
      "Warning: No faces were detected.\n",
      "No faces were detected in image './faceB/533516836.jpg''\n",
      "Warning: No faces were detected.\n",
      "No faces were detected in image './faceB/607399712.jpg''\n",
      "Warning: No faces were detected.\n",
      "No faces were detected in image './faceB/178674733.jpg''\n",
      "Warning: No faces were detected.\n",
      "No faces were detected in image './faceB/161742251.jpg''\n"
     ]
    }
   ],
   "source": [
    "fns_face_not_detected = []\n",
    "\n",
    "for idx, fns in enumerate([fns_faceA, fns_faceB]):\n",
    "    if idx == 0:\n",
    "        save_path = dir_bm_faceA_eyes\n",
    "    elif idx == 1:\n",
    "        save_path = dir_bm_faceB_eyes     \n",
    "    \n",
    "    # create binary mask for each training image\n",
    "    for fn in fns:\n",
    "        raw_fn = PurePath(fn).parts[-1]\n",
    "\n",
    "        x = plt.imread(fn)\n",
    "        x = cv2.resize(x, (256,256))\n",
    "        preds = fa.get_landmarks(x)\n",
    "        \n",
    "        if preds is not None:\n",
    "            preds = preds[0]\n",
    "            mask = np.zeros_like(x)\n",
    "            \n",
    "            # Draw right eye binary mask\n",
    "            pnts_right = [(preds[i,0],preds[i,1]) for i in range(36,42)]\n",
    "            hull = cv2.convexHull(np.array(pnts_right)).astype(np.int32)\n",
    "            mask = cv2.drawContours(mask,[hull],0,(255,255,255),-1)\n",
    "\n",
    "            # Draw left eye binary mask\n",
    "            pnts_left = [(preds[i,0],preds[i,1]) for i in range(42,48)]\n",
    "            hull = cv2.convexHull(np.array(pnts_left)).astype(np.int32)\n",
    "            mask = cv2.drawContours(mask,[hull],0,(255,255,255),-1)\n",
    "            \n",
    "            mask = cv2.dilate(mask, np.ones((13,13), np.uint8), iterations=1)\n",
    "            mask = cv2.GaussianBlur(mask, (7,7), 0)\n",
    "            \n",
    "        else:\n",
    "            mask = np.zeros_like(x)\n",
    "            print(\"No faces were detected in image '{fn}''\".format(fn=fn))\n",
    "            fns_face_not_detected.append(fn)\n",
    "        \n",
    "        plt.imsave(fname=\"{save_path}/{raw_fn}\".format(save_path=save_path, raw_fn=raw_fn), arr=mask, format=\"jpg\")"
   ]
  },
  {
   "cell_type": "code",
   "execution_count": 10,
   "metadata": {
    "colab": {
     "autoexec": {
      "startup": false,
      "wait_interval": 0
     },
     "base_uri": "https://localhost:8080/",
     "height": 51
    },
    "colab_type": "code",
    "executionInfo": {
     "elapsed": 559,
     "status": "ok",
     "timestamp": 1529152371122,
     "user": {
      "displayName": "Lu SA",
      "photoUrl": "https://lh3.googleusercontent.com/a/default-user=s128",
      "userId": "109275333798683015269"
     },
     "user_tz": -480
    },
    "id": "uXgooPybq7PG",
    "outputId": "362246e2-9b58-487c-cb4e-99ce69136eda"
   },
   "outputs": [
    {
     "name": "stdout",
     "output_type": "stream",
     "text": [
      "Nuber of processed images: 672\n",
      "Number of image(s) with no face detected: 67\n"
     ]
    }
   ],
   "source": [
    "num_faceA = len(glob(dir_faceA+\"/*.*\"))\n",
    "num_faceB = len(glob(dir_faceB+\"/*.*\"))\n",
    "\n",
    "print(\"Nuber of processed images: \"+ str(num_faceA + num_faceB))\n",
    "print(\"Number of image(s) with no face detected: \" + str(len(fns_face_not_detected)))"
   ]
  },
  {
   "cell_type": "markdown",
   "metadata": {
    "colab_type": "text",
    "id": "uRKzF42Wy0Ba"
   },
   "source": [
    "# Randomly diaplay a face image and its result binary mask"
   ]
  },
  {
   "cell_type": "code",
   "execution_count": 11,
   "metadata": {
    "colab": {
     "autoexec": {
      "startup": false,
      "wait_interval": 0
     },
     "base_uri": "https://localhost:8080/",
     "height": 316
    },
    "colab_type": "code",
    "executionInfo": {
     "elapsed": 1080,
     "status": "ok",
     "timestamp": 1529139911130,
     "user": {
      "displayName": "Lu SA",
      "photoUrl": "https://lh3.googleusercontent.com/a/default-user=s128",
      "userId": "109275333798683015269"
     },
     "user_tz": -480
    },
    "id": "Ja4aOHNay0HH",
    "outputId": "c6e1b3d4-d427-4267-a33b-efc8882373e3"
   },
   "outputs": [
    {
     "ename": "SyntaxError",
     "evalue": "invalid syntax (<ipython-input-11-634501a82107>, line 9)",
     "output_type": "error",
     "traceback": [
      "\u001b[0;36m  File \u001b[0;32m\"<ipython-input-11-634501a82107>\"\u001b[0;36m, line \u001b[0;32m9\u001b[0m\n\u001b[0;31m    mask_fn = f\"{dir_bm_faceA_eyes}/{raw_fn}\" if face == \"A\" else f\"{dir_bm_faceB_eyes}/{raw_fn}\"\u001b[0m\n\u001b[0m                                            ^\u001b[0m\n\u001b[0;31mSyntaxError\u001b[0m\u001b[0;31m:\u001b[0m invalid syntax\n"
     ]
    }
   ],
   "source": [
    "face = np.random.choice([\"A\",\"B\"])\n",
    "\n",
    "dir_face = dir_faceA if face == \"A\" else dir_faceB\n",
    "fns_face = fns_faceA if face == \"A\" else fns_faceB\n",
    "num_face = len(glob(dir_face+\"/*.*\"))\n",
    "rand_idx = np.random.randint(num_face)\n",
    "rand_fn = fns_face[rand_idx]\n",
    "raw_fn = PurePath(rand_fn).parts[-1]\n",
    "mask_fn = \"{dir_bm_faceA_eyes}/{raw_fn}\".format(dir_bm_faceA_eyes=dir_bm_faceA_eyes, raw_fn=raw_fn) if face == \"A\" else \"{dir_bm_faceB_eyes}/{raw_fn}\".format(dir_bm_faceB_eyes=dir_bm_faceB_eyes, raw_fn=raw_fn)\n",
    "im = plt.imread(rand_fn)\n",
    "mask = plt.imread(mask_fn)\n",
    "\n",
    "if rand_fn in fns_face_not_detected:\n",
    "    print(\"========== No faces were detected in this image! ==========\")\n",
    "\n",
    "fig = plt.figure(figsize=(15,6))\n",
    "plt.subplot(1,3,1)\n",
    "plt.grid('off')\n",
    "plt.imshow(im)\n",
    "plt.subplot(1,3,2)\n",
    "plt.grid('off')\n",
    "plt.imshow(mask)\n",
    "plt.subplot(1,3,3)\n",
    "plt.grid('off')\n",
    "plt.imshow((mask/255*im).astype(np.uint8))\n",
    "\n",
    "#fa.get_landmarks(x)"
   ]
  },
  {
   "cell_type": "markdown",
   "metadata": {
    "colab_type": "text",
    "id": "X6c22xxGsVQR"
   },
   "source": [
    "# Randomly diaplay an image that has no face detected"
   ]
  },
  {
   "cell_type": "code",
   "execution_count": null,
   "metadata": {
    "colab": {
     "autoexec": {
      "startup": false,
      "wait_interval": 0
     },
     "base_uri": "https://localhost:8080/",
     "height": 287
    },
    "colab_type": "code",
    "executionInfo": {
     "elapsed": 697,
     "status": "ok",
     "timestamp": 1529139782680,
     "user": {
      "displayName": "Lu SA",
      "photoUrl": "https://lh3.googleusercontent.com/a/default-user=s128",
      "userId": "109275333798683015269"
     },
     "user_tz": -480
    },
    "id": "aAgOLJ_WowlK",
    "outputId": "00138071-ab9e-4c91-aeb6-67d253c81cf5"
   },
   "outputs": [],
   "source": [
    "num_no_face_img = len(fns_face_not_detected)\n",
    "rand_idx = np.random.randint(num_no_face_img)\n",
    "x = plt.imread(fns_face_not_detected[rand_idx])\n",
    "#x = cv2.resize(x, (256,256))\n",
    "\n",
    "plt.grid('off')\n",
    "plt.imshow(x)\n",
    "\n",
    "#fa.get_landmarks(x)"
   ]
  },
  {
   "cell_type": "code",
   "execution_count": null,
   "metadata": {},
   "outputs": [],
   "source": []
  }
 ],
 "metadata": {
  "accelerator": "GPU",
  "colab": {
   "collapsed_sections": [],
   "default_view": {},
   "name": "make_binary_masks.ipynb",
   "provenance": [],
   "version": "0.3.2",
   "views": {}
  },
  "kernelspec": {
   "display_name": "Python 3",
   "language": "python",
   "name": "python3"
  },
  "language_info": {
   "codemirror_mode": {
    "name": "ipython",
    "version": 3
   },
   "file_extension": ".py",
   "mimetype": "text/x-python",
   "name": "python",
   "nbconvert_exporter": "python",
   "pygments_lexer": "ipython3",
   "version": "3.6.4"
  }
 },
 "nbformat": 4,
 "nbformat_minor": 1
}
